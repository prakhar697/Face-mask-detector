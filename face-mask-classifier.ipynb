{
 "cells": [
  {
   "cell_type": "code",
   "execution_count": 7,
   "metadata": {},
   "outputs": [],
   "source": [
    "import tensorflow as tf"
   ]
  },
  {
   "cell_type": "code",
   "execution_count": 8,
   "metadata": {},
   "outputs": [],
   "source": [
    "from tensorflow.keras.models import Sequential\n",
    "from tensorflow.keras.layers import Dense,Dropout,Activation,Flatten,Conv2D,MaxPooling2D\n",
    "import pickle"
   ]
  },
  {
   "cell_type": "code",
   "execution_count": 9,
   "metadata": {},
   "outputs": [],
   "source": [
    "x = pickle.load(open('x.pickle','rb'))\n",
    "y = pickle.load(open('y.pickle','rb'))"
   ]
  },
  {
   "cell_type": "code",
   "execution_count": 10,
   "metadata": {},
   "outputs": [],
   "source": [
    "x = x/255.0"
   ]
  },
  {
   "cell_type": "code",
   "execution_count": 11,
   "metadata": {},
   "outputs": [],
   "source": [
    "model = Sequential()\n",
    "\n",
    "model.add(Conv2D(64,(3,3), input_shape = x.shape[1:]))\n",
    "model.add(Activation(\"relu\"))\n",
    "model.add(MaxPooling2D(pool_size = (2,2)))\n",
    "\n",
    "model.add(Conv2D(64,(3,3)))\n",
    "model.add(Activation(\"relu\"))\n",
    "model.add(MaxPooling2D(pool_size = (2,2)))\n",
    "\n",
    "model.add(Conv2D(64,(3,3)))\n",
    "model.add(Activation(\"relu\"))\n",
    "model.add(MaxPooling2D(pool_size = (2,2)))\n",
    "\n",
    "model.add(Flatten())\n",
    "model.add(Dense(64))\n",
    "\n",
    "model.add(Dense(1))\n",
    "model.add(Activation('sigmoid'))\n",
    "\n",
    "model.compile(loss = 'binary_crossentropy',\n",
    "             optimizer = 'adam',\n",
    "             metrics = ['accuracy'])"
   ]
  },
  {
   "cell_type": "code",
   "execution_count": 12,
   "metadata": {},
   "outputs": [
    {
     "name": "stdout",
     "output_type": "stream",
     "text": [
      "Train on 180 samples, validate on 20 samples\n",
      "Epoch 1/30\n",
      "180/180 [==============================] - 5s 27ms/sample - loss: 2.4140 - accuracy: 0.5222 - val_loss: 0.6418 - val_accuracy: 0.5500\n",
      "Epoch 2/30\n",
      "180/180 [==============================] - 2s 10ms/sample - loss: 0.5478 - accuracy: 0.6944 - val_loss: 0.4069 - val_accuracy: 0.7500\n",
      "Epoch 3/30\n",
      "180/180 [==============================] - 2s 10ms/sample - loss: 0.3082 - accuracy: 0.8889 - val_loss: 0.3005 - val_accuracy: 0.8000\n",
      "Epoch 4/30\n",
      "180/180 [==============================] - 2s 10ms/sample - loss: 0.1732 - accuracy: 0.9556 - val_loss: 0.1355 - val_accuracy: 0.9500\n",
      "Epoch 5/30\n",
      "180/180 [==============================] - 2s 10ms/sample - loss: 0.1085 - accuracy: 0.9500 - val_loss: 0.0657 - val_accuracy: 1.0000\n",
      "Epoch 6/30\n",
      "180/180 [==============================] - 2s 10ms/sample - loss: 0.0710 - accuracy: 0.9722 - val_loss: 0.0141 - val_accuracy: 1.0000\n",
      "Epoch 7/30\n",
      "180/180 [==============================] - 2s 10ms/sample - loss: 0.0587 - accuracy: 0.9778 - val_loss: 0.0106 - val_accuracy: 1.0000\n",
      "Epoch 8/30\n",
      "180/180 [==============================] - 2s 10ms/sample - loss: 0.0632 - accuracy: 0.9722 - val_loss: 0.1550 - val_accuracy: 0.9500\n",
      "Epoch 9/30\n",
      "180/180 [==============================] - 2s 10ms/sample - loss: 0.0433 - accuracy: 0.9889 - val_loss: 0.0407 - val_accuracy: 1.0000\n",
      "Epoch 10/30\n",
      "180/180 [==============================] - 2s 10ms/sample - loss: 0.0580 - accuracy: 0.9833 - val_loss: 0.1651 - val_accuracy: 0.9500\n",
      "Epoch 11/30\n",
      "180/180 [==============================] - 2s 10ms/sample - loss: 0.0358 - accuracy: 0.9889 - val_loss: 0.0128 - val_accuracy: 1.0000\n",
      "Epoch 12/30\n",
      "180/180 [==============================] - 2s 10ms/sample - loss: 0.0366 - accuracy: 0.9889 - val_loss: 0.1440 - val_accuracy: 0.9500\n",
      "Epoch 13/30\n",
      "180/180 [==============================] - 2s 10ms/sample - loss: 0.0502 - accuracy: 0.9889 - val_loss: 0.0044 - val_accuracy: 1.0000\n",
      "Epoch 14/30\n",
      "180/180 [==============================] - 2s 10ms/sample - loss: 0.0284 - accuracy: 0.9944 - val_loss: 0.0107 - val_accuracy: 1.0000\n",
      "Epoch 15/30\n",
      "180/180 [==============================] - 2s 10ms/sample - loss: 0.0093 - accuracy: 1.0000 - val_loss: 0.0055 - val_accuracy: 1.0000\n",
      "Epoch 16/30\n",
      "180/180 [==============================] - 2s 10ms/sample - loss: 0.0073 - accuracy: 1.0000 - val_loss: 0.0809 - val_accuracy: 0.9500\n",
      "Epoch 17/30\n",
      "180/180 [==============================] - 2s 10ms/sample - loss: 0.0050 - accuracy: 1.0000 - val_loss: 0.0228 - val_accuracy: 1.0000\n",
      "Epoch 18/30\n",
      "180/180 [==============================] - 2s 10ms/sample - loss: 0.0022 - accuracy: 1.0000 - val_loss: 0.0314 - val_accuracy: 1.0000\n",
      "Epoch 19/30\n",
      "180/180 [==============================] - 2s 10ms/sample - loss: 0.0014 - accuracy: 1.0000 - val_loss: 0.0442 - val_accuracy: 0.9500\n",
      "Epoch 20/30\n",
      "180/180 [==============================] - 2s 10ms/sample - loss: 0.0011 - accuracy: 1.0000 - val_loss: 0.0754 - val_accuracy: 0.9500\n",
      "Epoch 21/30\n",
      "180/180 [==============================] - 2s 10ms/sample - loss: 8.6261e-04 - accuracy: 1.0000 - val_loss: 0.0680 - val_accuracy: 0.9500\n",
      "Epoch 22/30\n",
      "180/180 [==============================] - 2s 10ms/sample - loss: 5.3016e-04 - accuracy: 1.0000 - val_loss: 0.0935 - val_accuracy: 0.9500\n",
      "Epoch 23/30\n",
      "180/180 [==============================] - 2s 10ms/sample - loss: 0.0011 - accuracy: 1.0000 - val_loss: 0.0381 - val_accuracy: 0.9500\n",
      "Epoch 24/30\n",
      "180/180 [==============================] - 2s 10ms/sample - loss: 0.0014 - accuracy: 1.0000 - val_loss: 0.0068 - val_accuracy: 1.0000\n",
      "Epoch 25/30\n",
      "180/180 [==============================] - 2s 10ms/sample - loss: 0.0041 - accuracy: 1.0000 - val_loss: 0.0967 - val_accuracy: 0.9500\n",
      "Epoch 26/30\n",
      "180/180 [==============================] - 2s 10ms/sample - loss: 0.0011 - accuracy: 1.0000 - val_loss: 0.0098 - val_accuracy: 1.0000\n",
      "Epoch 27/30\n",
      "180/180 [==============================] - 2s 10ms/sample - loss: 9.4608e-04 - accuracy: 1.0000 - val_loss: 0.0049 - val_accuracy: 1.0000\n",
      "Epoch 28/30\n",
      "180/180 [==============================] - 2s 10ms/sample - loss: 4.1178e-04 - accuracy: 1.0000 - val_loss: 0.0167 - val_accuracy: 1.0000\n",
      "Epoch 29/30\n",
      "180/180 [==============================] - 2s 10ms/sample - loss: 3.2020e-04 - accuracy: 1.0000 - val_loss: 0.0343 - val_accuracy: 1.0000\n",
      "Epoch 30/30\n",
      "180/180 [==============================] - 2s 10ms/sample - loss: 3.1986e-04 - accuracy: 1.0000 - val_loss: 0.0421 - val_accuracy: 0.9500\n"
     ]
    },
    {
     "data": {
      "text/plain": [
       "<tensorflow.python.keras.callbacks.History at 0x136e9f9f688>"
      ]
     },
     "execution_count": 12,
     "metadata": {},
     "output_type": "execute_result"
    }
   ],
   "source": [
    "model.fit(x,y,batch_size = 32,epochs = 30,validation_split = 0.1)"
   ]
  },
  {
   "cell_type": "code",
   "execution_count": 13,
   "metadata": {},
   "outputs": [],
   "source": [
    "model.save('model.h5')"
   ]
  },
  {
   "cell_type": "code",
   "execution_count": null,
   "metadata": {},
   "outputs": [],
   "source": []
  }
 ],
 "metadata": {
  "kernelspec": {
   "display_name": "Python 3",
   "language": "python",
   "name": "python3"
  },
  "language_info": {
   "codemirror_mode": {
    "name": "ipython",
    "version": 3
   },
   "file_extension": ".py",
   "mimetype": "text/x-python",
   "name": "python",
   "nbconvert_exporter": "python",
   "pygments_lexer": "ipython3",
   "version": "3.7.9"
  }
 },
 "nbformat": 4,
 "nbformat_minor": 4
}
