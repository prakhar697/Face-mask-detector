{
 "cells": [
  {
   "cell_type": "code",
   "execution_count": 1,
   "metadata": {},
   "outputs": [],
   "source": [
    "import numpy as np\n",
    "import cv2"
   ]
  },
  {
   "cell_type": "code",
   "execution_count": 2,
   "metadata": {},
   "outputs": [],
   "source": [
    "import tensorflow as tf"
   ]
  },
  {
   "cell_type": "code",
   "execution_count": 3,
   "metadata": {},
   "outputs": [],
   "source": [
    "from tensorflow.keras.models import load_model"
   ]
  },
  {
   "cell_type": "code",
   "execution_count": 4,
   "metadata": {},
   "outputs": [],
   "source": [
    "classifier = load_model('model.h5')"
   ]
  },
  {
   "cell_type": "code",
   "execution_count": 5,
   "metadata": {},
   "outputs": [],
   "source": [
    "face_cascade = cv2.CascadeClassifier('haarcascade_frontalface_default.xml')\n",
    "label_dict = {0:'WITHOUT MASK',1:'WITH MASK'}\n",
    "color_dict = {0:(0,0,255),1:(0,255,0)}"
   ]
  },
  {
   "cell_type": "code",
   "execution_count": 6,
   "metadata": {},
   "outputs": [],
   "source": [
    "def detect(frame):\n",
    "    t = 0\n",
    "    faces = face_cascade.detectMultiScale(frame,1.3,5)\n",
    "    for (x,y,w,h) in faces:\n",
    "        \n",
    "        rol_frame = frame[y:y+h,x:x+w]\n",
    "        resized = cv2.resize(rol_frame,(224,224)) \n",
    "        normalized = resized/255.0\n",
    "        reshaped = np.reshape(normalized,(1,224,224,3)) \n",
    "        #reshaped = np.vstack([reshaped])\n",
    "        result = classifier.predict(reshaped)\n",
    "\n",
    "        label = result[0,0]\n",
    "        if label > 0.5:\n",
    "            t = 1 \n",
    "        else:\n",
    "            t = 0\n",
    "        \n",
    "        cv2.rectangle(frame,(x,y),(x+w,y+h),color_dict[t],2)\n",
    "        cv2.rectangle(frame,(x,y-40),(x+w,y),color_dict[t],-1)\n",
    "        cv2.putText(frame,label_dict[t],(x,y-10),cv2.FONT_HERSHEY_SIMPLEX,0.8,(255,255,255),2)\n",
    "        \n",
    "    return frame"
   ]
  },
  {
   "cell_type": "code",
   "execution_count": 7,
   "metadata": {},
   "outputs": [],
   "source": [
    "video_capture = cv2.VideoCapture(0 + cv2.CAP_DSHOW)\n",
    "video_capture.set(cv2.CAP_PROP_FRAME_WIDTH,640)\n",
    "video_capture.set(cv2.CAP_PROP_FRAME_HEIGHT,480)\n",
    "while True:\n",
    "    \n",
    "    _, frame = video_capture.read()\n",
    "    canvas = detect(frame)\n",
    "    cv2.imshow('result',canvas)\n",
    "    key = cv2.waitKey(1)\n",
    "    if key == 27:\n",
    "        break\n",
    "  \n",
    "video_capture.release()\n",
    "cv2.destroyAllWindows()"
   ]
  },
  {
   "cell_type": "code",
   "execution_count": null,
   "metadata": {},
   "outputs": [],
   "source": []
  }
 ],
 "metadata": {
  "kernelspec": {
   "display_name": "Python 3",
   "language": "python",
   "name": "python3"
  },
  "language_info": {
   "codemirror_mode": {
    "name": "ipython",
    "version": 3
   },
   "file_extension": ".py",
   "mimetype": "text/x-python",
   "name": "python",
   "nbconvert_exporter": "python",
   "pygments_lexer": "ipython3",
   "version": "3.7.9"
  }
 },
 "nbformat": 4,
 "nbformat_minor": 4
}
