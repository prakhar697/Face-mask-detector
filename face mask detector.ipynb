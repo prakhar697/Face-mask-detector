{
 "cells": [
  {
   "cell_type": "code",
   "execution_count": 1,
   "metadata": {},
   "outputs": [
    {
     "name": "stderr",
     "output_type": "stream",
     "text": [
      "Using TensorFlow backend.\n",
      "C:\\Users\\kushagra\\Anaconda3\\lib\\site-packages\\tensorflow\\python\\framework\\dtypes.py:516: FutureWarning: Passing (type, 1) or '1type' as a synonym of type is deprecated; in a future version of numpy, it will be understood as (type, (1,)) / '(1,)type'.\n",
      "  _np_qint8 = np.dtype([(\"qint8\", np.int8, 1)])\n",
      "C:\\Users\\kushagra\\Anaconda3\\lib\\site-packages\\tensorflow\\python\\framework\\dtypes.py:517: FutureWarning: Passing (type, 1) or '1type' as a synonym of type is deprecated; in a future version of numpy, it will be understood as (type, (1,)) / '(1,)type'.\n",
      "  _np_quint8 = np.dtype([(\"quint8\", np.uint8, 1)])\n",
      "C:\\Users\\kushagra\\Anaconda3\\lib\\site-packages\\tensorflow\\python\\framework\\dtypes.py:518: FutureWarning: Passing (type, 1) or '1type' as a synonym of type is deprecated; in a future version of numpy, it will be understood as (type, (1,)) / '(1,)type'.\n",
      "  _np_qint16 = np.dtype([(\"qint16\", np.int16, 1)])\n",
      "C:\\Users\\kushagra\\Anaconda3\\lib\\site-packages\\tensorflow\\python\\framework\\dtypes.py:519: FutureWarning: Passing (type, 1) or '1type' as a synonym of type is deprecated; in a future version of numpy, it will be understood as (type, (1,)) / '(1,)type'.\n",
      "  _np_quint16 = np.dtype([(\"quint16\", np.uint16, 1)])\n",
      "C:\\Users\\kushagra\\Anaconda3\\lib\\site-packages\\tensorflow\\python\\framework\\dtypes.py:520: FutureWarning: Passing (type, 1) or '1type' as a synonym of type is deprecated; in a future version of numpy, it will be understood as (type, (1,)) / '(1,)type'.\n",
      "  _np_qint32 = np.dtype([(\"qint32\", np.int32, 1)])\n",
      "C:\\Users\\kushagra\\Anaconda3\\lib\\site-packages\\tensorflow\\python\\framework\\dtypes.py:525: FutureWarning: Passing (type, 1) or '1type' as a synonym of type is deprecated; in a future version of numpy, it will be understood as (type, (1,)) / '(1,)type'.\n",
      "  np_resource = np.dtype([(\"resource\", np.ubyte, 1)])\n",
      "C:\\Users\\kushagra\\Anaconda3\\lib\\site-packages\\tensorboard\\compat\\tensorflow_stub\\dtypes.py:541: FutureWarning: Passing (type, 1) or '1type' as a synonym of type is deprecated; in a future version of numpy, it will be understood as (type, (1,)) / '(1,)type'.\n",
      "  _np_qint8 = np.dtype([(\"qint8\", np.int8, 1)])\n",
      "C:\\Users\\kushagra\\Anaconda3\\lib\\site-packages\\tensorboard\\compat\\tensorflow_stub\\dtypes.py:542: FutureWarning: Passing (type, 1) or '1type' as a synonym of type is deprecated; in a future version of numpy, it will be understood as (type, (1,)) / '(1,)type'.\n",
      "  _np_quint8 = np.dtype([(\"quint8\", np.uint8, 1)])\n",
      "C:\\Users\\kushagra\\Anaconda3\\lib\\site-packages\\tensorboard\\compat\\tensorflow_stub\\dtypes.py:543: FutureWarning: Passing (type, 1) or '1type' as a synonym of type is deprecated; in a future version of numpy, it will be understood as (type, (1,)) / '(1,)type'.\n",
      "  _np_qint16 = np.dtype([(\"qint16\", np.int16, 1)])\n",
      "C:\\Users\\kushagra\\Anaconda3\\lib\\site-packages\\tensorboard\\compat\\tensorflow_stub\\dtypes.py:544: FutureWarning: Passing (type, 1) or '1type' as a synonym of type is deprecated; in a future version of numpy, it will be understood as (type, (1,)) / '(1,)type'.\n",
      "  _np_quint16 = np.dtype([(\"quint16\", np.uint16, 1)])\n",
      "C:\\Users\\kushagra\\Anaconda3\\lib\\site-packages\\tensorboard\\compat\\tensorflow_stub\\dtypes.py:545: FutureWarning: Passing (type, 1) or '1type' as a synonym of type is deprecated; in a future version of numpy, it will be understood as (type, (1,)) / '(1,)type'.\n",
      "  _np_qint32 = np.dtype([(\"qint32\", np.int32, 1)])\n",
      "C:\\Users\\kushagra\\Anaconda3\\lib\\site-packages\\tensorboard\\compat\\tensorflow_stub\\dtypes.py:550: FutureWarning: Passing (type, 1) or '1type' as a synonym of type is deprecated; in a future version of numpy, it will be understood as (type, (1,)) / '(1,)type'.\n",
      "  np_resource = np.dtype([(\"resource\", np.ubyte, 1)])\n"
     ]
    }
   ],
   "source": [
    "import cv2\n",
    "import keras \n",
    "import os\n",
    "import numpy as np\n",
    "from keras.models import Sequential\n",
    "from keras.preprocessing import image\n",
    "from keras.layers import Convolution2D \n",
    "from keras.layers import Dense\n",
    "from keras.layers import MaxPooling2D\n",
    "from keras.layers import Flatten\n",
    "from keras.layers import Dropout\n",
    "import warnings\n",
    "warnings.filterwarnings('ignore')\n",
    "warnings.simplefilter('ignore')"
   ]
  },
  {
   "cell_type": "markdown",
   "metadata": {},
   "source": [
    "''' Building a CNN model with 2 layers and number of channels taken in convolutional layer(first) are 3. Also we are taking the shape of input image as 100 * 100. '''"
   ]
  },
  {
   "cell_type": "code",
   "execution_count": 2,
   "metadata": {},
   "outputs": [],
   "source": [
    "classifier = Sequential()"
   ]
  },
  {
   "cell_type": "code",
   "execution_count": 3,
   "metadata": {
    "scrolled": true
   },
   "outputs": [],
   "source": [
    "classifier.add(Convolution2D(100,3,3,input_shape = (100,100,3),activation = 'relu'))"
   ]
  },
  {
   "cell_type": "code",
   "execution_count": 4,
   "metadata": {},
   "outputs": [
    {
     "name": "stdout",
     "output_type": "stream",
     "text": [
      "WARNING:tensorflow:From C:\\Users\\kushagra\\Anaconda3\\lib\\site-packages\\keras\\backend\\tensorflow_backend.py:4070: The name tf.nn.max_pool is deprecated. Please use tf.nn.max_pool2d instead.\n",
      "\n"
     ]
    }
   ],
   "source": [
    "classifier.add(MaxPooling2D(pool_size = (2,2)))"
   ]
  },
  {
   "cell_type": "code",
   "execution_count": 5,
   "metadata": {},
   "outputs": [],
   "source": [
    "classifier.add(Convolution2D(100,3,3,activation = 'relu'))"
   ]
  },
  {
   "cell_type": "code",
   "execution_count": 6,
   "metadata": {},
   "outputs": [],
   "source": [
    "classifier.add(MaxPooling2D(pool_size = (2,2)))"
   ]
  },
  {
   "cell_type": "code",
   "execution_count": 7,
   "metadata": {},
   "outputs": [],
   "source": [
    "classifier.add(Flatten())"
   ]
  },
  {
   "cell_type": "code",
   "execution_count": 8,
   "metadata": {},
   "outputs": [],
   "source": [
    "classifier.add(Dropout(0.5))"
   ]
  },
  {
   "cell_type": "code",
   "execution_count": 9,
   "metadata": {},
   "outputs": [],
   "source": [
    "classifier.add(Dense(output_dim = 128,activation = 'relu'))"
   ]
  },
  {
   "cell_type": "code",
   "execution_count": 10,
   "metadata": {},
   "outputs": [],
   "source": [
    "classifier.add(Dense(output_dim = 1, activation = 'sigmoid'))"
   ]
  },
  {
   "cell_type": "code",
   "execution_count": 11,
   "metadata": {},
   "outputs": [
    {
     "name": "stdout",
     "output_type": "stream",
     "text": [
      "WARNING:tensorflow:From C:\\Users\\kushagra\\Anaconda3\\lib\\site-packages\\tensorflow\\python\\ops\\nn_impl.py:180: add_dispatch_support.<locals>.wrapper (from tensorflow.python.ops.array_ops) is deprecated and will be removed in a future version.\n",
      "Instructions for updating:\n",
      "Use tf.where in 2.0, which has the same broadcast rule as np.where\n"
     ]
    }
   ],
   "source": [
    "classifier.compile(optimizer = 'adam', loss = 'binary_crossentropy', metrics = ['accuracy'])"
   ]
  },
  {
   "cell_type": "markdown",
   "metadata": {},
   "source": [
    "'''Doing data augmentation to get more images to train our model but also converting each augmented image to size of 100 * 100.'''"
   ]
  },
  {
   "cell_type": "code",
   "execution_count": 12,
   "metadata": {},
   "outputs": [
    {
     "name": "stdout",
     "output_type": "stream",
     "text": [
      "Found 174 images belonging to 2 classes.\n",
      "Found 26 images belonging to 2 classes.\n",
      "WARNING:tensorflow:From C:\\Users\\kushagra\\Anaconda3\\lib\\site-packages\\keras\\backend\\tensorflow_backend.py:422: The name tf.global_variables is deprecated. Please use tf.compat.v1.global_variables instead.\n",
      "\n",
      "Epoch 1/25\n",
      "2/2 [==============================] - 11s 6s/step - loss: 1.2614 - accuracy: 0.5781 - val_loss: 2.7872 - val_accuracy: 0.5000\n",
      "Epoch 2/25\n",
      "2/2 [==============================] - 9s 5s/step - loss: 2.2443 - accuracy: 0.4348 - val_loss: 0.7482 - val_accuracy: 0.5000\n",
      "Epoch 3/25\n",
      "2/2 [==============================] - 11s 6s/step - loss: 0.7268 - accuracy: 0.5781 - val_loss: 0.6911 - val_accuracy: 0.5000\n",
      "Epoch 4/25\n",
      "2/2 [==============================] - 10s 5s/step - loss: 0.6884 - accuracy: 0.6957 - val_loss: 0.6811 - val_accuracy: 0.6923\n",
      "Epoch 5/25\n",
      "2/2 [==============================] - 11s 6s/step - loss: 0.6802 - accuracy: 0.6094 - val_loss: 0.6557 - val_accuracy: 0.5000\n",
      "Epoch 6/25\n",
      "2/2 [==============================] - 12s 6s/step - loss: 0.6627 - accuracy: 0.5312 - val_loss: 0.6158 - val_accuracy: 0.9231\n",
      "Epoch 7/25\n",
      "2/2 [==============================] - 12s 6s/step - loss: 0.5934 - accuracy: 0.8594 - val_loss: 0.5602 - val_accuracy: 0.8846\n",
      "Epoch 8/25\n",
      "2/2 [==============================] - 12s 6s/step - loss: 0.5363 - accuracy: 0.9062 - val_loss: 0.4703 - val_accuracy: 0.8077\n",
      "Epoch 9/25\n",
      "2/2 [==============================] - 11s 6s/step - loss: 0.3851 - accuracy: 0.9348 - val_loss: 0.3984 - val_accuracy: 0.8846\n",
      "Epoch 10/25\n",
      "2/2 [==============================] - 12s 6s/step - loss: 0.2750 - accuracy: 0.9375 - val_loss: 0.4568 - val_accuracy: 0.7308\n",
      "Epoch 11/25\n",
      "2/2 [==============================] - 11s 5s/step - loss: 0.2842 - accuracy: 0.8261 - val_loss: 0.3393 - val_accuracy: 0.8846\n",
      "Epoch 12/25\n",
      "2/2 [==============================] - 13s 6s/step - loss: 0.3965 - accuracy: 0.8438 - val_loss: 0.2167 - val_accuracy: 0.8846\n",
      "Epoch 13/25\n",
      "2/2 [==============================] - 12s 6s/step - loss: 0.2640 - accuracy: 0.9062 - val_loss: 0.3148 - val_accuracy: 0.8846\n",
      "Epoch 14/25\n",
      "2/2 [==============================] - 11s 6s/step - loss: 0.3325 - accuracy: 0.8261 - val_loss: 0.1960 - val_accuracy: 0.9231\n",
      "Epoch 15/25\n",
      "2/2 [==============================] - 13s 7s/step - loss: 0.1733 - accuracy: 0.9844 - val_loss: 0.2591 - val_accuracy: 0.8846\n",
      "Epoch 16/25\n",
      "2/2 [==============================] - 13s 6s/step - loss: 0.2365 - accuracy: 0.9375 - val_loss: 0.1742 - val_accuracy: 0.9231\n",
      "Epoch 17/25\n",
      "2/2 [==============================] - 11s 6s/step - loss: 0.1239 - accuracy: 0.9783 - val_loss: 0.2272 - val_accuracy: 0.8846\n",
      "Epoch 18/25\n",
      "2/2 [==============================] - 13s 7s/step - loss: 0.1499 - accuracy: 0.9531 - val_loss: 0.1983 - val_accuracy: 0.8846\n",
      "Epoch 19/25\n",
      "2/2 [==============================] - 11s 6s/step - loss: 0.1073 - accuracy: 0.9783 - val_loss: 0.2227 - val_accuracy: 0.9231\n",
      "Epoch 20/25\n",
      "2/2 [==============================] - 13s 6s/step - loss: 0.1937 - accuracy: 0.9375 - val_loss: 0.2729 - val_accuracy: 0.8846\n",
      "Epoch 21/25\n",
      "2/2 [==============================] - 13s 7s/step - loss: 0.1988 - accuracy: 0.9531 - val_loss: 0.1739 - val_accuracy: 0.8846\n",
      "Epoch 22/25\n",
      "2/2 [==============================] - 12s 6s/step - loss: 0.0777 - accuracy: 0.9783 - val_loss: 0.1675 - val_accuracy: 0.8846\n",
      "Epoch 23/25\n",
      "2/2 [==============================] - 13s 6s/step - loss: 0.0907 - accuracy: 0.9531 - val_loss: 0.1737 - val_accuracy: 0.9231\n",
      "Epoch 24/25\n",
      "2/2 [==============================] - 14s 7s/step - loss: 0.1362 - accuracy: 0.9531 - val_loss: 0.2015 - val_accuracy: 0.9231\n",
      "Epoch 25/25\n",
      "2/2 [==============================] - 13s 7s/step - loss: 0.0787 - accuracy: 0.9688 - val_loss: 0.2293 - val_accuracy: 0.9231\n"
     ]
    },
    {
     "data": {
      "text/plain": [
       "<keras.callbacks.callbacks.History at 0xf84d648>"
      ]
     },
     "execution_count": 12,
     "metadata": {},
     "output_type": "execute_result"
    }
   ],
   "source": [
    "from keras.preprocessing.image import ImageDataGenerator\n",
    "train_datagen = ImageDataGenerator( rescale = 1./255,\n",
    "                                    shear_range = 0.2,\n",
    "                                    zoom_range = 0.2,\n",
    "                                    horizontal_flip = True)\n",
    "test_datagen = ImageDataGenerator(rescale = 1./255)\n",
    "training_set = train_datagen.flow_from_directory('train',target_size = (100,100),batch_size = 32,class_mode = 'binary')\n",
    "test_set = test_datagen.flow_from_directory('test',target_size = (100,100),batch_size = 32,class_mode = 'binary')\n",
    "\n",
    "classifier.fit_generator(training_set,samples_per_epoch = 87,nb_epoch = 25,validation_data = test_set,nb_val_samples = 13)"
   ]
  },
  {
   "cell_type": "code",
   "execution_count": 13,
   "metadata": {},
   "outputs": [],
   "source": [
    "face_cascade = cv2.CascadeClassifier('haarcascade_frontalface_default.xml')\n",
    "label_dict = {0:'without mask',1:'with mask'}\n",
    "color_dict = {0:(0,0,255),1:(0,255,0)}"
   ]
  },
  {
   "cell_type": "code",
   "execution_count": 14,
   "metadata": {},
   "outputs": [],
   "source": [
    "def detect(frame):\n",
    "    \n",
    "    faces = face_cascade.detectMultiScale(frame,1.3,5)\n",
    "    for (x,y,w,h) in faces:\n",
    "        \n",
    "        rol_frame = frame[y:y+h,x:x+w]\n",
    "        resized = cv2.resize(rol_frame,(100,100)) \n",
    "        normalized = resized/255.0\n",
    "        reshaped = np.reshape(normalized,(1,100,100,3)) \n",
    "        reshaped = np.vstack([reshaped])\n",
    "        result = classifier.predict(reshaped)\n",
    "\n",
    "        label = np.argmax(result,axis=1)[0]\n",
    "        \n",
    "        cv2.rectangle(frame,(x,y),(x+w,y+h),color_dict[label],2)\n",
    "        cv2.rectangle(frame,(x,y-40),(x+w,y),color_dict[label],-1)\n",
    "        cv2.putText(frame,label_dict[label],(x,y-10),cv2.FONT_HERSHEY_SIMPLEX,0.8,(255,255,255),2)\n",
    "        \n",
    "    return frame"
   ]
  },
  {
   "cell_type": "code",
   "execution_count": 15,
   "metadata": {},
   "outputs": [],
   "source": [
    "video_capture = cv2.VideoCapture(0+cv2.CAP_DSHOW)\n",
    "#converting the resolution of the output window to (640*480)\n",
    "video_capture.set(cv2.CAP_PROP_FRAME_WIDTH,640)\n",
    "video_capture.set(cv2.CAP_PROP_FRAME_HEIGHT,480)\n",
    "while True:\n",
    "    \n",
    "    _, frame = video_capture.read()\n",
    "    canvas = detect(frame)\n",
    "    cv2.imshow('result',canvas)\n",
    "    key = cv2.waitKey(1)\n",
    "    if key == 27:\n",
    "        break\n",
    "  \n",
    "video_capture.release()\n",
    "cv2.destroyAllWindows()"
   ]
  }
 ],
 "metadata": {
  "kernelspec": {
   "display_name": "Python 3",
   "language": "python",
   "name": "python3"
  },
  "language_info": {
   "codemirror_mode": {
    "name": "ipython",
    "version": 3
   },
   "file_extension": ".py",
   "mimetype": "text/x-python",
   "name": "python",
   "nbconvert_exporter": "python",
   "pygments_lexer": "ipython3",
   "version": "3.7.6"
  }
 },
 "nbformat": 4,
 "nbformat_minor": 4
}
